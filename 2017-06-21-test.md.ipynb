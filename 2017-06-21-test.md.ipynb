{
 "cells": [
  {
   "cell_type": "markdown",
   "metadata": {},
   "source": [
    "# Version Space"
   ]
  },
  {
   "cell_type": "markdown",
   "metadata": {},
   "source": [
    "![Version Space](https://static.pexels.com/photos/59523/pexels-photo-59523.jpeg)\n",
    "\n",
    "> $$ P(Outcome |  Evidence) = \\frac{P(Evidence1|Outcome) * P(Evidence2|Outcome) * ... * P(EvidenceN|Outcome) * P(Outcome)} {P(Multiple Evidence)} $$\n",
    "\n",
    "which is usually interpreted as \n",
    "\n",
    "$$\\begin{equation} a^2 = \\frac{ P(Likelihood of Evidence) * Prior Prob Of Outcome} {P(Evidence)}  \\end{equation}$$\n",
    "\n",
    "$ P(Outcome|Evidence) =  $"
   ]
  },
  {
   "cell_type": "code",
   "execution_count": null,
   "metadata": {
    "collapsed": true
   },
   "outputs": [],
   "source": []
  }
 ],
 "metadata": {
  "kernelspec": {
   "display_name": "Python 2",
   "language": "python",
   "name": "python2"
  },
  "language_info": {
   "codemirror_mode": {
    "name": "ipython",
    "version": 2
   },
   "file_extension": ".py",
   "mimetype": "text/x-python",
   "name": "python",
   "nbconvert_exporter": "python",
   "pygments_lexer": "ipython2",
   "version": "2.7.13"
  }
 },
 "nbformat": 4,
 "nbformat_minor": 2
}
